{
  "nbformat": 4,
  "nbformat_minor": 0,
  "metadata": {
    "colab": {
      "name": "인공지능 기술을 활용한 제품 및 서비스.ipynb",
      "provenance": [],
      "toc_visible": true,
      "authorship_tag": "ABX9TyNwU+1joQwLWafsXMrlGF4C",
      "include_colab_link": true
    },
    "kernelspec": {
      "name": "python3",
      "display_name": "Python 3"
    }
  },
  "cells": [
    {
      "cell_type": "markdown",
      "metadata": {
        "id": "view-in-github",
        "colab_type": "text"
      },
      "source": [
        "<a href=\"https://colab.research.google.com/github/jisooham/test/blob/master/%EC%9D%B8%EA%B3%B5%EC%A7%80%EB%8A%A5_%EA%B8%B0%EC%88%A0%EC%9D%84_%ED%99%9C%EC%9A%A9%ED%95%9C_%EC%A0%9C%ED%92%88_%EB%B0%8F_%EC%84%9C%EB%B9%84%EC%8A%A4.ipynb\" target=\"_parent\"><img src=\"https://colab.research.google.com/assets/colab-badge.svg\" alt=\"Open In Colab\"/></a>"
      ]
    },
    {
      "cell_type": "markdown",
      "metadata": {
        "id": "2I9Eaf7L9xAC",
        "colab_type": "text"
      },
      "source": [
        "#인공지능 기술을 활용한 제품 및 서비스\n"
      ]
    },
    {
      "cell_type": "markdown",
      "metadata": {
        "id": "RtAminGB93h6",
        "colab_type": "text"
      },
      "source": [
        "###**1.음성**\n",
        "* SK 인공지능 돌봄 서비스\n",
        " * SK 텔레콤에서 독거노인을 대상으로 하여 인공지능 스피커 '누구'를 이용해 노인들의 음성을 인식, 인공지능 돌봄 서비스를 제공하고 있음\n",
        " 1. __정서케어 효과__: 행복감과 긍정 정서가 높아지고 고독감과 부정 정서는 감소\n",
        " 2. __새로운 사회안전망으로서의 가능성__: 노인이 음성을 통해 구조요청을 하면, 위급 상황으로 판단하여 즉시 119에 연계하는 프로세스 구축\n",
        " 3. __치매 발현 지연효과__: 치매 예방 프로그램 ‘두뇌톡톡'을 제공하여 장기기억력과 주의력·집중력 향상 및 언어 유창성 증진 도모\n",
        "\n",
        "![인공지능 돌봄 사용 모습](https://imgnews.pstatic.net/image/241/2020/05/20/0003024464_001_20200520115301875.jpg?type=w647)\n",
        "\n",
        "*출처*: [네이버뉴스](http://news.naver.com/main/read.nhn?mode=LSD&mid=sec&sid1=001&oid=241&aid=0003024464)\n",
        "\n",
        "\n",
        "\n"
      ]
    },
    {
      "cell_type": "markdown",
      "metadata": {
        "id": "gh63JAsPcJea",
        "colab_type": "text"
      },
      "source": [
        "###**2.언어**\n",
        "* 카카오 i 번역\n",
        " * 카카오는 2017년 9월부터 카카오 i의 번역 엔진을 적용한 기계 번역 서비스 '카카오 i 번역'을 서비스 중\n",
        " 1.  __342쌍의 양방향 번역 지원__: 한국어를 기반으로 중국어, 영어, 일본어, 인도네시아어, 베트남어 등 총 19개 국어 번역 지원\n",
        " 2. __문체설정기능__: 한국어에 대한 예삿말-높임말이 학습되어 있어 서비스하는 모든 언어의 번역 결과물에 문체 설정 가능\n",
        " 3. __인공신경망 기계번역(NMT) 기술__: AI가 스스로 데이터에 기반해 학습하고 번역하는 기술을 적용, 문장을 통째로 번역하여 기존의 통계적 번역보다 품질이 우수\n",
        "\n",
        "![카카오i구조도](https://imgnews.pstatic.net/image/030/2017/09/20/0002642898_001_20170920175227564.jpg?type=w647)\n",
        "\n",
        "*출처*:[한국일보](http://www.hankookilbo.com/news/npath/201905221135739765?did=NA), [카카오i 홈페이지](https://kakao.ai/tech)\n"
      ]
    },
    {
      "cell_type": "markdown",
      "metadata": {
        "id": "ODstJTkqcZN_",
        "colab_type": "text"
      },
      "source": [
        "###**3.이미지**\n",
        "* 루닛 인사이트\n",
        " * 딥러닝 기술을 활용, 흉부 엑스선 영상에서 폐암 결절로 의심되는 이상부위를 검출해 의사의 판독을 보조하는 의료영상 검출 소프트웨어\n",
        " * 인공지능 알고리즘이 영상을 분석\n",
        "    1. 병변으로 의심되는 위치를 색상(Heatmap)으로 표시\n",
        "    2. 병변의 존재 가능성을 확률 값으로 표시\n",
        " * 97%의 정확도로, 3차원 인체를 2차원 영상으로 투사하여 해부학적 구조물들이 서로 중첩되어 판독이 어렵고 오진률이 높은 기존의 영상진단 방식의 한계 극복\n",
        "\n",
        " ![루닛인사이트를 이용한 폐암 결절 진단 사례](https://www.lunit.io/static/product_CXR2_example_case1-2-e4245f4593e8123b9728395fa20f58c7.jpg)\n",
        "\n",
        " *출처*: [Lunit 홈페이지](https://www.lunit.io/ko/)\n"
      ]
    },
    {
      "cell_type": "markdown",
      "metadata": {
        "id": "kpmq7_eLcjUN",
        "colab_type": "text"
      },
      "source": [
        "###**4.자율주행**\n",
        "* 테슬라 자율주행 신경망\n",
        " * 30억 마일의 오토파일럿 모드 주행 데이터 수집, 이를 통해 내비게이션 온 오토파일럿(NOA)과 같은 진화한 자율주행 기능을 개발\n",
        " * 수집한 데이터를 활용하여 GPU 클러스터 기반의 자체 개발한 맞춤형 하드웨어 및 소프트웨어를 통해 인공지능 신경망 훈련\n",
        " * 자율주행 신경망으로 Semantic Segmentation, HydraNet 활용\n",
        " 1. **Semantic Segmentation**: 분류-발견-분할 프로세스를 통해 인풋에 대한 레이블을 예측하여 라벨링을 통해 정보 제공, 모든 픽셀에 대해서 레이블 예측이 가능\n",
        " 2. **HydraNet**: 핵심이 되는 백본(Backbone) 위에 여러 작은 신경망들이 올라가는 형태. 도로, 사람, 차량, 신호, 표지판 등 분석해야 할 대상들이 하나의 백본을 공유하여 주변 환경을 인식하는 구조\n",
        "\n",
        "![테슬라 오토파일럿](https://www.tesla.com/tesla_theme/assets/img/features/autopilot/section-hero-carnival@2x.jpg?20161101)\n",
        "\n",
        "[출처](https://blog.naver.com/shakey7/221932482700)\n"
      ]
    }
  ]
}