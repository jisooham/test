{
  "nbformat": 4,
  "nbformat_minor": 0,
  "metadata": {
    "colab": {
      "name": "Untitled2.ipynb",
      "provenance": [],
      "authorship_tag": "ABX9TyNOh8rkfO4Kor1ZxNu/YMKJ",
      "include_colab_link": true
    },
    "kernelspec": {
      "name": "python3",
      "display_name": "Python 3"
    }
  },
  "cells": [
    {
      "cell_type": "markdown",
      "metadata": {
        "id": "view-in-github",
        "colab_type": "text"
      },
      "source": [
        "<a href=\"https://colab.research.google.com/github/jisooham/test/blob/master/Untitled2.ipynb\" target=\"_parent\"><img src=\"https://colab.research.google.com/assets/colab-badge.svg\" alt=\"Open In Colab\"/></a>"
      ]
    },
    {
      "cell_type": "code",
      "metadata": {
        "id": "UtmuYJl_9gzr",
        "colab_type": "code",
        "colab": {}
      },
      "source": [
        ""
      ],
      "execution_count": 0,
      "outputs": []
    },
    {
      "cell_type": "markdown",
      "metadata": {
        "id": "2I9Eaf7L9xAC",
        "colab_type": "text"
      },
      "source": [
        "#인공지능 기술을 활용한 제품 및 서비스\n"
      ]
    },
    {
      "cell_type": "markdown",
      "metadata": {
        "id": "RtAminGB93h6",
        "colab_type": "text"
      },
      "source": [
        "###**1.음성**\n",
        "1. 인공지능 돌봄 서비스\n",
        "* SK 텔레콤에서 독거노인을 대상으로 하여 인공지능 스피커 '누구'를 이용해 인공지능 돌봄 서비스를 제공하고 있음.\n",
        " * __정서케어 효과__: 행복감과 긍정 정서가 높아지고 고독감과 부정 정서는 감소\n",
        " * __새로운 사회안전망으로서의 가능성__: 노인이 음성을 통해 구조요청을 하면, 위급 상황으로 판단하여 즉시 119에 연계하는 프로세스 구축\n",
        " * __치매 발현 지연효과__: 치매 예방 프로그램 ‘두뇌톡톡'을 제공하여 장기기억력과 주의력·집중력 향상 및 언어 유창성 증진 도모\n",
        "\n",
        "![인공지능 돌봄 사용 모습](https://imgnews.pstatic.net/image/241/2020/05/20/0003024464_001_20200520115301875.jpg?type=w647)\n",
        "\n",
        "*출처*: [네이버뉴스](http://news.naver.com/main/read.nhn?mode=LSD&mid=sec&sid1=001&oid=241&aid=0003024464)\n",
        "\n",
        "\n"
      ]
    }
  ]
}